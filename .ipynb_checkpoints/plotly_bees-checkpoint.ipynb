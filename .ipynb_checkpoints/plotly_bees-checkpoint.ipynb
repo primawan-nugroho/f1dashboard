{
 "cells": [
  {
   "cell_type": "code",
   "execution_count": 46,
   "id": "97d232a4",
   "metadata": {},
   "outputs": [],
   "source": [
    "import pandas as pd\n",
    "import plotly.express as px\n",
    "import plotly.graph_objects as go\n",
    "\n",
    "import dash\n",
    "from dash import dcc\n",
    "from dash import html\n",
    "\n",
    "from dash.dependencies import Input, Output"
   ]
  },
  {
   "cell_type": "code",
   "execution_count": 47,
   "id": "ed88337e",
   "metadata": {},
   "outputs": [],
   "source": [
    "df = pd.read_csv(\"intro_bees.csv\")"
   ]
  },
  {
   "cell_type": "code",
   "execution_count": 48,
   "id": "9dc3734b",
   "metadata": {},
   "outputs": [],
   "source": [
    "df = df.groupby(['State', 'ANSI', 'Affected by', 'Year', 'state_code'])[['Pct of Colonies Impacted']].mean()"
   ]
  },
  {
   "cell_type": "code",
   "execution_count": 49,
   "id": "27bb0836",
   "metadata": {},
   "outputs": [],
   "source": [
    "df.reset_index(inplace=True)"
   ]
  },
  {
   "cell_type": "code",
   "execution_count": 50,
   "id": "8516e0e1",
   "metadata": {},
   "outputs": [
    {
     "name": "stdout",
     "output_type": "stream",
     "text": [
      "     State  ANSI Affected by  Year state_code  Pct of Colonies Impacted\n",
      "0  Alabama     1     Disease  2015         AL                      0.05\n",
      "1  Alabama     1     Disease  2016         AL                      1.20\n",
      "2  Alabama     1     Disease  2017         AL                      2.25\n",
      "3  Alabama     1     Disease  2018         AL                      1.30\n",
      "4  Alabama     1     Disease  2019         AL                      1.80\n"
     ]
    }
   ],
   "source": [
    "print(df[:5])"
   ]
  },
  {
   "cell_type": "code",
   "execution_count": 51,
   "id": "e75145bb",
   "metadata": {},
   "outputs": [],
   "source": [
    "app = dash.Dash(__name__)"
   ]
  },
  {
   "cell_type": "code",
   "execution_count": 52,
   "id": "f6d0badf",
   "metadata": {},
   "outputs": [],
   "source": [
    "app.layout = html.Div([\n",
    "    \n",
    "    html.H1(\"F1 Data Statistics - 2022 Season\", style={'text-align': 'center'}),\n",
    "    \n",
    "    dcc.Dropdown(id=\"slct_year\",\n",
    "                options=[\n",
    "                    {\"label\": \"2015\", \"value\": 2015},\n",
    "                    {\"label\": \"2016\", \"value\": 2016},\n",
    "                    {\"label\": \"2017\", \"value\": 2017},\n",
    "                    {\"label\": \"2018\", \"value\": 2018}],\n",
    "                multi=False,\n",
    "                value=2015,\n",
    "                style={'width': \"48%\"}\n",
    "                ),\n",
    "    html.Div(id='output_container', children=[]),\n",
    "    html.Br(),\n",
    "    \n",
    "    dcc.Graph(id='my_bee_map', figure={})\n",
    "])"
   ]
  },
  {
   "cell_type": "code",
   "execution_count": 53,
   "id": "b020367c",
   "metadata": {},
   "outputs": [],
   "source": [
    "@app.callback(\n",
    "    [Output(component_id='output_container', component_property='children'),\n",
    "    Output(component_id='my_bee_map', component_property='figure')],\n",
    "    [Input(component_id='slct_year', component_property='value')]\n",
    ")\n",
    "\n",
    "def update_graph(option_slctd):\n",
    "    print(option_slctd)\n",
    "    print(type(option_slctd))\n",
    "    \n",
    "    container = \"The year chosen by user was: {}\".format(option_slctd)\n",
    "    \n",
    "    dff = df.copy()\n",
    "    dff = dff[dff[\"Year\"] == option_slctd]\n",
    "    dff = dff[dff[\"Affected by\"] == \"Varroa_mites\"]\n",
    "    \n",
    "    fig = px.choropleth(\n",
    "        data_frame = dff,\n",
    "        locationmode = 'USA-states',\n",
    "        locations = 'state_code',\n",
    "        scope=\"usa\",\n",
    "        color='Pct of Colonies Impacted',\n",
    "        hover_data=['State', 'Pct of Colonies Impacted'],\n",
    "        color_continuous_scale = px.colors.sequential.YlOrRd,\n",
    "        labels={'Pct of Colonies Impacted': '% of Bee Colonies'},\n",
    "        template='plotly_dark'\n",
    "    )\n",
    "    \n",
    "    return container, fig"
   ]
  },
  {
   "cell_type": "code",
   "execution_count": 54,
   "id": "62274952",
   "metadata": {},
   "outputs": [
    {
     "name": "stdout",
     "output_type": "stream",
     "text": [
      "Dash is running on http://127.0.0.1:8050/\n",
      "\n",
      "Dash is running on http://127.0.0.1:8050/\n",
      "\n",
      "Dash is running on http://127.0.0.1:8050/\n",
      "\n",
      "Dash is running on http://127.0.0.1:8050/\n",
      "\n",
      " * Serving Flask app '__main__' (lazy loading)\n",
      " * Environment: production\n",
      "\u001b[31m   WARNING: This is a development server. Do not use it in a production deployment.\u001b[0m\n",
      "\u001b[2m   Use a production WSGI server instead.\u001b[0m\n",
      " * Debug mode: on\n",
      "2015\n",
      "<class 'int'>\n"
     ]
    }
   ],
   "source": [
    "if __name__ == '__main__':\n",
    "    app.run_server(debug=True, use_reloader=False)"
   ]
  },
  {
   "cell_type": "code",
   "execution_count": null,
   "id": "b51cbb46",
   "metadata": {},
   "outputs": [],
   "source": []
  }
 ],
 "metadata": {
  "kernelspec": {
   "display_name": "Python 3",
   "language": "python",
   "name": "python3"
  },
  "language_info": {
   "codemirror_mode": {
    "name": "ipython",
    "version": 3
   },
   "file_extension": ".py",
   "mimetype": "text/x-python",
   "name": "python",
   "nbconvert_exporter": "python",
   "pygments_lexer": "ipython3",
   "version": "3.9.0"
  }
 },
 "nbformat": 4,
 "nbformat_minor": 5
}
