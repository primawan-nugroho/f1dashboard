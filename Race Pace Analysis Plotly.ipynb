{
 "cells": [
  {
   "cell_type": "code",
   "execution_count": 48,
   "id": "57caf6bf",
   "metadata": {},
   "outputs": [],
   "source": [
    "import numpy as np\n",
    "import pandas as pd\n",
    "import matplotlib.pyplot as plt\n",
    "import seaborn as sns\n",
    "\n",
    "\n",
    "import fastf1 as ff1\n",
    "from fastf1 import plotting\n",
    "plotting.setup_mpl()\n",
    "\n",
    "import datetime\n",
    "import plotly.express as px\n",
    "import plotly.graph_objects as go\n",
    "\n",
    "%matplotlib inline"
   ]
  },
  {
   "cell_type": "code",
   "execution_count": 49,
   "id": "26953f03",
   "metadata": {},
   "outputs": [],
   "source": [
    "import dash\n",
    "from dash import dcc\n",
    "from dash import html\n",
    "\n",
    "from dash.dependencies import Input, Output"
   ]
  },
  {
   "cell_type": "markdown",
   "id": "cedf80af",
   "metadata": {},
   "source": [
    "# Parameters\n",
    "#### Ganti parameter ini aja langsung run"
   ]
  },
  {
   "cell_type": "code",
   "execution_count": 50,
   "id": "98911ad8",
   "metadata": {},
   "outputs": [],
   "source": [
    "YEAR = 2022\n",
    "RACE = 'mexico'\n",
    "SESSION = 'R'\n",
    "\n",
    "LIMIT_OUTLIER= 1000"
   ]
  },
  {
   "cell_type": "code",
   "execution_count": 51,
   "id": "2ec946e1",
   "metadata": {},
   "outputs": [],
   "source": [
    "#color scheme\n",
    "fer = ff1.plotting.team_color('ferrari')\n",
    "rbr = ff1.plotting.team_color('RBR')\n",
    "mer = ff1.plotting.team_color('mercedes')\n",
    "alf = ff1.plotting.team_color('alfa romeo')\n",
    "ast = ff1.plotting.team_color('aston martin')\n",
    "mcl = ff1.plotting.team_color('mclaren')\n",
    "alt = ff1.plotting.team_color('alphatauri')\n",
    "wil = ff1.plotting.team_color('williams')\n",
    "alp = ff1.plotting.team_color('alpine')\n",
    "has = '#adadad' #has putih, ga keliatan, dibikin agak abu biar keliaan"
   ]
  },
  {
   "cell_type": "code",
   "execution_count": 67,
   "id": "669b8bee",
   "metadata": {},
   "outputs": [],
   "source": [
    "ff1.Cache.enable_cache('../F1/cache')"
   ]
  },
  {
   "cell_type": "code",
   "execution_count": 68,
   "id": "775d51f3",
   "metadata": {},
   "outputs": [
    {
     "name": "stderr",
     "output_type": "stream",
     "text": [
      "core           INFO \tLoading data for Mexico City Grand Prix - Race [v2.2.2]\n",
      "api            INFO \tUsing cached data for driver_info\n",
      "api            INFO \tUsing cached data for timing_data\n",
      "api            INFO \tUsing cached data for timing_app_data\n",
      "core           INFO \tProcessing timing data...\n",
      "api            INFO \tUsing cached data for session_status_data\n",
      "api            INFO \tUsing cached data for track_status_data\n",
      "api            INFO \tUsing cached data for car_data\n",
      "api            INFO \tUsing cached data for position_data\n",
      "api            INFO \tUsing cached data for weather_data\n",
      "core           INFO \tFinished loading data for 20 drivers: ['1', '44', '11', '63', '55', '16', '3', '31', '4', '77', '10', '23', '24', '5', '18', '47', '20', '6', '14', '22']\n"
     ]
    }
   ],
   "source": [
    "session = ff1.get_session(2022, 'mexico', 'R')\n",
    "session.load()"
   ]
  },
  {
   "cell_type": "code",
   "execution_count": 54,
   "id": "8972eea2",
   "metadata": {},
   "outputs": [],
   "source": [
    "SAI = session.laps.pick_driver('SAI')\n",
    "PER = session.laps.pick_driver('PER')\n",
    "HAM = session.laps.pick_driver('HAM')\n",
    "LEC = session.laps.pick_driver('LEC')\n",
    "ALO = session.laps.pick_driver('ALO')\n",
    "NOR = session.laps.pick_driver('NOR')\n",
    "VER = session.laps.pick_driver('VER')\n",
    "MSC = session.laps.pick_driver('MSC')\n",
    "VET = session.laps.pick_driver('VET')\n",
    "MAG = session.laps.pick_driver('MAG')\n",
    "STR = session.laps.pick_driver('STR')\n",
    "LAT = session.laps.pick_driver('LAT')\n",
    "RIC = session.laps.pick_driver('RIC')\n",
    "TSU = session.laps.pick_driver('TSU')\n",
    "OCO = session.laps.pick_driver('OCO')\n",
    "GAS = session.laps.pick_driver('GAS')\n",
    "BOT = session.laps.pick_driver('BOT')\n",
    "RUS = session.laps.pick_driver('RUS')\n",
    "ZHO = session.laps.pick_driver('ZHO')\n",
    "ALB = session.laps.pick_driver('ALB')"
   ]
  },
  {
   "cell_type": "code",
   "execution_count": 55,
   "id": "ffb83fc6",
   "metadata": {},
   "outputs": [],
   "source": [
    "df = pd.concat([SAI, PER, HAM, LEC, ALO, NOR, VER, MSC, VET,MAG,\n",
    "                STR, LAT, RIC, TSU, OCO, GAS, BOT, RUS, ZHO, ALB])"
   ]
  },
  {
   "cell_type": "code",
   "execution_count": 56,
   "id": "e9bb5372",
   "metadata": {},
   "outputs": [],
   "source": [
    "df.reset_index(inplace=True, drop=True)"
   ]
  },
  {
   "cell_type": "code",
   "execution_count": 57,
   "id": "73a120d9",
   "metadata": {},
   "outputs": [],
   "source": [
    "#convert LapTime in timedelta64 to float in seconds\n",
    "df['LapTime_seconds'] = df['LapTime'].dt.seconds*1000000 + df['LapTime'].dt.microseconds\n",
    "df['LapTime_seconds'] = df['LapTime_seconds']/1000000"
   ]
  },
  {
   "cell_type": "code",
   "execution_count": 58,
   "id": "0d963358",
   "metadata": {},
   "outputs": [],
   "source": [
    "# set palette dengan dictionary berdasarkan driver dan color scheme dari ff1\n",
    "my_palette ={'SAI':fer,\n",
    "'PER':rbr,\n",
    "'HAM':mer,\n",
    "'LEC':fer,\n",
    "'ALO':alp,\n",
    "'NOR':mcl,\n",
    "'VER':rbr,\n",
    "'MSC':has,\n",
    "'VET':ast,\n",
    "'MAG':has,\n",
    "'STR':ast,\n",
    "'LAT':wil,\n",
    "'RIC':mcl,\n",
    "'TSU':alt,\n",
    "'OCO':alp,\n",
    "'GAS':alt,\n",
    "'BOT':alf,\n",
    "'RUS':mer,\n",
    "'ZHO':alf,\n",
    "'ALB':wil}"
   ]
  },
  {
   "cell_type": "code",
   "execution_count": 59,
   "id": "0aee03ed",
   "metadata": {},
   "outputs": [],
   "source": [
    "# buang data yg IsAccurate == False\n",
    "df = df.drop(df[df.IsAccurate == False].index)\n",
    "\n",
    "# fine tuning, buang outlier yg ga logis\n",
    "df = df.drop(df[df.LapTime_seconds > LIMIT_OUTLIER].index)"
   ]
  },
  {
   "cell_type": "code",
   "execution_count": 60,
   "id": "3bfb9321",
   "metadata": {},
   "outputs": [],
   "source": [
    "ranks = pd.DataFrame(df.groupby(\"Driver\")[\"LapTime_seconds\"].mean().fillna(0).sort_values(ascending=False)[::-1])\n",
    "ranks.reset_index(inplace=True)\n",
    "ranks = ranks.to_dict('list')"
   ]
  },
  {
   "cell_type": "code",
   "execution_count": 61,
   "id": "c5eef8c1",
   "metadata": {},
   "outputs": [],
   "source": [
    "df['mcolour'] = np.where(\n",
    "     df['Driver'] == \"VER\" , rbr, \n",
    "     np.where(\n",
    "        df['Driver'] == 'PER', rbr,\n",
    "         np.where(\n",
    "        df['Driver'] == 'MER', mer,\n",
    "             np.where(\n",
    "        df['Driver'] == 'RUS', mer,\n",
    "                 np.where(\n",
    "        df['Driver'] == 'LEC', fer,\n",
    "                     np.where(\n",
    "        df['Driver'] == 'SAI', fer,\n",
    "                         np.where(\n",
    "        df['Driver'] == 'RIC', mcl,\n",
    "                             np.where(\n",
    "        df['Driver'] == 'NOR', mcl,\n",
    "                                 np.where(\n",
    "        df['Driver'] == 'GAS', alt,\n",
    "                                     np.where(\n",
    "        df['Driver'] == 'TSU', alt,\n",
    "                                         np.where(\n",
    "        df['Driver'] == 'OCO', alp,\n",
    "                                             np.where(\n",
    "        df['Driver'] == 'ALO', alp,\n",
    "                                                 np.where(\n",
    "        df['Driver'] == 'BOT', alf,\n",
    "                                                     np.where(\n",
    "        df['Driver'] == 'ZHO', alf,\n",
    "                                                         np.where(\n",
    "        df['Driver'] == 'STR', ast,\n",
    "                                                             np.where(\n",
    "        df['Driver'] == 'MSC', has,\n",
    "                                                                 np.where(\n",
    "        df['Driver'] == 'MAG', has,\n",
    "                                                                     np.where(\n",
    "        df['Driver'] == 'LAT', wil,\n",
    "                                                                         np.where(\n",
    "        df['Driver'] == 'ALB', wil, '#000000'\n",
    "     ))))))))))))))))))\n",
    ")"
   ]
  },
  {
   "cell_type": "code",
   "execution_count": 62,
   "id": "65950e15",
   "metadata": {
    "scrolled": false
   },
   "outputs": [],
   "source": [
    "box = px.box(df, x='Driver', y='LapTime_seconds', category_orders=ranks)"
   ]
  },
  {
   "cell_type": "code",
   "execution_count": 63,
   "id": "aaadf9d1",
   "metadata": {},
   "outputs": [],
   "source": [
    "app = dash.Dash(__name__)"
   ]
  },
  {
   "cell_type": "code",
   "execution_count": 64,
   "id": "48c7e362",
   "metadata": {},
   "outputs": [],
   "source": [
    "app.layout = html.Div(id = 'parent', children = [\n",
    "    html.H1(id = 'H1', children = 'Pace Analysis - Mexico City GP 2022', style = {'textAlign':'center',\\\n",
    "                                            'marginTop':40,'marginBottom':40}),\n",
    "    dcc.Graph(id = 'box_plot', figure = box)    \n",
    "    ]\n",
    "                     )"
   ]
  },
  {
   "cell_type": "code",
   "execution_count": 66,
   "id": "05e96a7b",
   "metadata": {},
   "outputs": [
    {
     "name": "stdout",
     "output_type": "stream",
     "text": [
      "Dash is running on http://127.0.0.1:8050/\n",
      "\n",
      "Dash is running on http://127.0.0.1:8050/\n",
      "\n",
      "Dash is running on http://127.0.0.1:8050/\n",
      "\n",
      "Dash is running on http://127.0.0.1:8050/\n",
      "\n"
     ]
    },
    {
     "name": "stderr",
     "output_type": "stream",
     "text": [
      "dash           INFO \tDash is running on http://127.0.0.1:8050/\n",
      "\n"
     ]
    },
    {
     "name": "stdout",
     "output_type": "stream",
     "text": [
      " * Serving Flask app '__main__' (lazy loading)\n",
      " * Environment: production\n",
      "\u001b[31m   WARNING: This is a development server. Do not use it in a production deployment.\u001b[0m\n",
      "\u001b[2m   Use a production WSGI server instead.\u001b[0m\n",
      " * Debug mode: off\n"
     ]
    }
   ],
   "source": [
    "if __name__ == '__main__': \n",
    "    app.run_server()"
   ]
  },
  {
   "cell_type": "code",
   "execution_count": null,
   "id": "112ccb13",
   "metadata": {},
   "outputs": [],
   "source": []
  }
 ],
 "metadata": {
  "kernelspec": {
   "display_name": "Python 3.9.0 64-bit",
   "language": "python",
   "name": "python3"
  },
  "language_info": {
   "codemirror_mode": {
    "name": "ipython",
    "version": 3
   },
   "file_extension": ".py",
   "mimetype": "text/x-python",
   "name": "python",
   "nbconvert_exporter": "python",
   "pygments_lexer": "ipython3",
   "version": "3.9.0"
  },
  "vscode": {
   "interpreter": {
    "hash": "6ff1fa4b498b34c98b20e45f2dc9b9a67b3448c4e20ef01f5643c3b09504c155"
   }
  }
 },
 "nbformat": 4,
 "nbformat_minor": 5
}
